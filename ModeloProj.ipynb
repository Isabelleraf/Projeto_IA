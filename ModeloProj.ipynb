{
  "cells": [
    {
      "cell_type": "code",
      "execution_count": null,
      "metadata": {
        "id": "46m-7o3PtjK_"
      },
      "outputs": [],
      "source": [
        "#Nome: Isabelle Ramos de Azevedo Ferreira\n",
        "#RA: 10365077\n",
        "\n",
        "import pandas as pd\n",
        "from sklearn.linear_model import Ridge\n",
        "from sklearn.preprocessing import PolynomialFeatures, StandardScaler\n",
        "from sklearn.model_selection import train_test_split, GridSearchCV\n",
        "from sklearn.pipeline import Pipeline\n",
        "from sklearn.metrics import mean_squared_error\n",
        "import numpy as np\n",
        "#Isabelle Ramos de Azevedo Ferreira\n",
        "dados = pd.read_csv('dados.csv', sep=';', decimal=',')\n",
        "\n",
        "dados.dropna(subset=['ANO CORTE', 'TOTAL ÁRVORES'], inplace=True)\n",
        "\n",
        "anos = dados['ANO CORTE'].values.reshape(-1, 1)\n",
        "total_arvores = dados['TOTAL ÁRVORES'].values.reshape(-1, 1)\n",
        "\n",
        "X_treino, X_teste, y_treino, y_teste = train_test_split(anos, total_arvores, test_size=0.2, random_state=42)\n",
        "\n",
        "# Criar um pipeline com características polinomiais, escalonamento e regressão ridge\n",
        "pipeline = Pipeline([\n",
        "    ('poly', PolynomialFeatures(degree=3)),\n",
        "    ('scaler', StandardScaler()),\n",
        "    ('ridge', Ridge())\n",
        "])\n",
        "\n",
        "# Configurar a grade de hiperparâmetros para o GridSearchCV\n",
        "parametros = {\n",
        "    'poly__degree': [2, 3, 4],\n",
        "    'ridge__alpha': [0.1, 1.0, 10.0]\n",
        "}\n",
        "\n",
        "# Criar e treinar o modelo usando GridSearchCV\n",
        "grid_search = GridSearchCV(pipeline, parametros, cv=5, scoring='neg_mean_squared_error')\n",
        "grid_search.fit(X_treino, y_treino)\n",
        "\n",
        "# Exibir os melhores parâmetros encontrados pelo GridSearchCV\n",
        "print(\"Melhores parâmetros encontrados: \", grid_search.best_params_)\n",
        "\n",
        "y_pred = grid_search.predict(X_teste)\n",
        "mse = mean_squared_error(y_teste, y_pred)\n",
        "print(f\"Erro Quadrático Médio no conjunto de teste: {mse:.2f}\")\n",
        "\n",
        "# Gerar previsões para anos futuros\n",
        "anos_futuros = np.arange(2021, 2051).reshape(-1, 1)\n",
        "anos_futuros_poly = grid_search.best_estimator_.named_steps['poly'].transform(anos_futuros)\n",
        "anos_futuros_escalado = grid_search.best_estimator_.named_steps['scaler'].transform(anos_futuros_poly)\n",
        "previsoes = grid_search.best_estimator_.named_steps['ridge'].predict(anos_futuros_escalado)\n",
        "\n",
        "resultado = pd.DataFrame({'Ano': anos_futuros.flatten(), 'Total de Árvores': previsoes.flatten().round(2)})\n",
        "resultado['Total de Árvores'] = resultado['Total de Árvores'].map('{:.2f}'.format)\n",
        "\n",
        "print(\"\\nPrevisão de Total de Árvores Cortadas para os Próximos Anos:\")\n",
        "print(resultado.to_string(index=False))\n"
      ]
    },
    {
      "cell_type": "code",
      "execution_count": null,
      "metadata": {},
      "outputs": [],
      "source": []
    },
    {
      "cell_type": "code",
      "execution_count": null,
      "metadata": {},
      "outputs": [],
      "source": []
    }
  ],
  "metadata": {
    "colab": {
      "provenance": []
    },
    "kernelspec": {
      "display_name": "Python 3",
      "name": "python3"
    },
    "language_info": {
      "name": "python"
    }
  },
  "nbformat": 4,
  "nbformat_minor": 0
}
